{
 "cells": [
  {
   "cell_type": "markdown",
   "metadata": {},
   "source": [
    "## Set Operations\n",
    "\n",
    "### Union of Sets\n",
    "\n",
    "A union of two sets is a collective set containing every element of both sets. The operation to be used is | for union.\n",
    "\n",
    "```python\n",
    "# Given sets A and B\n",
    "A = {0, 2, 4, 6, 8}\n",
    "B = {1, 2, 3, 4, 5}\n",
    "print(\"Union:\", A | B) \n",
    "\n",
    "# Output\n",
    ">> Union: {0, 1, 2, 3, 4, 5, 6, 8}\n",
    "```\n",
    "\n",
    "#### Exercise\n",
    "\n",
    "Given two sets $A$ and $B$ as\n",
    "\n",
    "$A = \\{\"Apples\",\"Bananas\",\"Mangoes\"\\}$\n",
    "<br>\n",
    "$B = \\{\"Bananas\",\"Tomatoes\",\"Apples\",\"Potatoes\"\\}$\n",
    "\n",
    "Print the union of both the sets"
   ]
  },
  {
   "cell_type": "code",
   "execution_count": null,
   "metadata": {},
   "outputs": [],
   "source": []
  },
  {
   "cell_type": "markdown",
   "metadata": {
    "hide_input": true
   },
   "source": [
    "### Solution code\n",
    "\n",
    "```python\n",
    "# sets are defined \n",
    "A = {\"Apples\",\"Bananas\",\"Mangoes\"} \n",
    "B = {\"Bananas\",\"Tomatoes\",\"Apples\",\"Potatoes\"}\n",
    "  \n",
    "# union \n",
    "print(\"Union:\", A | B)\n",
    "```"
   ]
  },
  {
   "cell_type": "markdown",
   "metadata": {},
   "source": [
    "### Intersection Of Sets\n",
    "\n",
    "An intersection of two or more sets is the collection of all elements that are common in all of the individual sets. The operator to be used is '&' for intersection.\n",
    "\n",
    "```python\n",
    "# Given sets A and B\n",
    "A = {0, 2, 4, 6, 8}\n",
    "B = {1, 2, 3, 4, 5}\n",
    "print(\"Intersection:\", A & B) \n",
    "\n",
    "# Output\n",
    ">> Intersection: {2, 4}\n",
    "```\n",
    "\n",
    "#### Exercise\n",
    "\n",
    "Given two sets $A$ and $B$ as\n",
    "\n",
    "$A = \\{\"Apples\",\"Bananas\",\"Mangoes\"\\}$\n",
    "<br>\n",
    "$B = \\{\"Bananas\",\"Tomatoes\",\"Apples\",\"Potatoes\"\\}$\n",
    "\n",
    "Print the intersection of both the sets"
   ]
  },
  {
   "cell_type": "code",
   "execution_count": null,
   "metadata": {},
   "outputs": [],
   "source": []
  },
  {
   "cell_type": "markdown",
   "metadata": {
    "hide_input": true
   },
   "source": [
    "### Solution code\n",
    "\n",
    "```python\n",
    "# sets are defined \n",
    "A = {\"Apples\",\"Bananas\",\"Mangoes\"} \n",
    "B = {\"Bananas\",\"Tomatoes\",\"Apples\",\"Potatoes\"}\n",
    "  \n",
    "# Intersection\n",
    "print(\"Intersection:\", A & B)\n",
    "```"
   ]
  },
  {
   "cell_type": "markdown",
   "metadata": {},
   "source": [
    "### Difference between two sets\n",
    "\n",
    "When a set $B$ is subtracted from the set $A$, we get a set which is a collection of all elements belonging to set $A$, which do not appear in set $B$. Similarly, the difference between $B$ and $A$, i.e. $B-A$ is the set of all elements that appear in $B$ but do not appear in $A$. The operator to be used is '-' (minus) for difference.\n",
    "\n",
    "```python\n",
    "# Given sets A and B\n",
    "A = {0, 2, 4, 6, 8}\n",
    "B = {1, 2, 3, 4, 5}\n",
    "print(\"Difference:\", A - B)\n",
    "\n",
    "# Output\n",
    ">> Difference: {0, 8, 6}\n",
    "\n",
    "print(\"Difference:\", B - A)\n",
    "\n",
    "# Output\n",
    ">> Difference: {1, 3, 5}\n",
    "```\n",
    "\n",
    "#### Exercise\n",
    "\n",
    "Given two sets $A$ and $B$ as\n",
    "\n",
    "$A = \\{\"Apples\",\"Bananas\",\"Mangoes\"\\}$\n",
    "<br>\n",
    "$B = \\{\"Bananas\",\"Tomatoes\",\"Apples\",\"Potatoes\"\\}$\n",
    "\n",
    "Print the following\n",
    "* $A-B$\n",
    "* $B-A$"
   ]
  },
  {
   "cell_type": "code",
   "execution_count": 26,
   "metadata": {},
   "outputs": [
    {
     "name": "stdout",
     "output_type": "stream",
     "text": [
      "Differences: {'Mangoes'} {'Tomatoes', 'Potatoes'}\n"
     ]
    }
   ],
   "source": []
  },
  {
   "cell_type": "markdown",
   "metadata": {
    "hide_input": true
   },
   "source": [
    "### Solution code\n",
    "\n",
    "```python\n",
    "# sets are defined \n",
    "A = {\"Apples\",\"Bananas\",\"Mangoes\"} \n",
    "B = {\"Bananas\",\"Tomatoes\",\"Apples\",\"Potatoes\"}\n",
    "  \n",
    "# Intersection\n",
    "print(\"Differences:\", A-B, B-A)\n",
    "```"
   ]
  },
  {
   "cell_type": "markdown",
   "metadata": {},
   "source": [
    "### Symmetric Difference\n",
    "\n",
    "A symmetric difference of two sets is a collection of elements which occur in either of the sets but not both, i.e. Symmetric difference is the difference of a union of two sets and their intersection: Union-Intersection. The operation to be used is ^ for Symmetric difference.\n",
    "\n",
    "```python\n",
    "# Given sets A and B\n",
    "A = {0, 2, 4, 6, 8}\n",
    "B = {1, 2, 3, 4, 5}\n",
    "print(\"Symmetric difference:\", A ^ B)\n",
    "\n",
    "# Output\n",
    ">> Symmetric difference: {0, 1, 3, 5, 6, 8}\n",
    "```\n",
    "\n",
    "#### Exercise\n",
    "\n",
    "Given two sets $A$ and $B$ as\n",
    "\n",
    "$A = \\{\"Apples\",\"Bananas\",\"Mangoes\"\\}$\n",
    "<br>\n",
    "$B = \\{\"Bananas\",\"Tomatoes\",\"Apples\",\"Potatoes\"\\}$\n",
    "\n",
    "Determine the symmetric difference and print the answer"
   ]
  },
  {
   "cell_type": "code",
   "execution_count": null,
   "metadata": {},
   "outputs": [],
   "source": []
  },
  {
   "cell_type": "markdown",
   "metadata": {
    "hide_input": true
   },
   "source": [
    "### Solution code\n",
    "\n",
    "```python\n",
    "# sets are defined \n",
    "A = {\"Apples\",\"Bananas\",\"Mangoes\"} \n",
    "B = {\"Bananas\",\"Tomatoes\",\"Apples\",\"Potatoes\"}\n",
    "  \n",
    "# Intersection\n",
    "print(\"Symmetric difference:\", A^B)\n",
    "```"
   ]
  },
  {
   "cell_type": "markdown",
   "metadata": {},
   "source": [
    "### Groups and Group Theory\n",
    "\n",
    "A set $S$ can be called a group if with respect to a specific binary operation (say $\\bullet$), the set satisfies the following conditions:\n",
    "* closure - For any $a$ and $b$ belonging to the set $S$, $a\\bullet b=c$ and $c$ always belongs to set $S$\n",
    "* associativity - For any $a$ and $b$ belonging to the set $S$, $(a\\bullet b)\\bullet c = a\\bullet (b \\bullet c)$ is always true\n",
    "* identity - For any $a$ belonging to the set $S$, $a\\bullet i = i \\bullet a = a$ where $i$ is called identity element and it also belongs to set $S$\n",
    "* invertibility - For any $a$ and $b$ belonging to the set $S$, $a\\bullet b = b\\bullet a = i$ where $i$ is the identity element and it also belongs to set $S$\n",
    "\n",
    "Group theory is the study of groups. The definition of a group is key to defining various abstract algebraic structures such as rings, fields and vector spaces.\n",
    "\n",
    "An example of a group - The set of Integers, $I$ over the addition (+) operation.\n",
    "* <b>closure -</b> any addition operation among two integers always results in an integer.\n",
    "    * 4+5 = 9\n",
    "    * (-4)+200 = 196\n",
    "    * (-34)+(-56) = -90 etc.\n",
    "* <b>associativity -</b> order of addition does not matter.\n",
    "    * (4+5)+10 = 4+(5+10) = 19\n",
    "    * ((-9)+(-4))+(-21) = (-9)+((-4)+(-21)) = -34 etc.\n",
    "* <b>identity -</b> '0' is the identity element for addition among integers and it also belongs to the set of integers $I$.\n",
    "    * 5+0 = 0+5 = 5\n",
    "    * (-19)+0 = 0+(-19) = -19 etc. \n",
    "* <b>invertibility -</b> for any positive integer you have a negative integer with equal magnitude which can lead to '0' (identity element), by an addition operation.\n",
    "    * 6+(-6) = (-6)+6 = 0\n",
    "    * 43+(-43) = (-43)+43 = 0 etc. \n",
    "\n",
    "(Source: Wikipedia)"
   ]
  },
  {
   "cell_type": "code",
   "execution_count": null,
   "metadata": {},
   "outputs": [],
   "source": [
    "# End of Notebook"
   ]
  },
  {
   "cell_type": "markdown",
   "metadata": {
    "hide_input": true
   },
   "source": [
    "### Solution code\n",
    "\n",
    "```python\n",
    "# End of Notebook\n",
    "```"
   ]
  }
 ],
 "metadata": {
  "celltoolbar": "Edit Metadata",
  "kernelspec": {
   "display_name": "Python 3",
   "language": "python",
   "name": "python3"
  },
  "language_info": {
   "codemirror_mode": {
    "name": "ipython",
    "version": 3
   },
   "file_extension": ".py",
   "mimetype": "text/x-python",
   "name": "python",
   "nbconvert_exporter": "python",
   "pygments_lexer": "ipython3",
   "version": "3.7.1"
  }
 },
 "nbformat": 4,
 "nbformat_minor": 2
}
