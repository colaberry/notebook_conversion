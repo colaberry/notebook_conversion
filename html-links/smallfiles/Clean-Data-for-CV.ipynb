{
 "cells": [
  {
   "cell_type": "code",
   "execution_count": 3,
   "metadata": {},
   "outputs": [],
   "source": [
    "from sklearn.datasets import load_wine\n",
    "from sklearn.neighbors import KNeighborsClassifier\n",
    "from sklearn.naive_bayes import GaussianNB\n",
    "from sklearn.model_selection import train_test_split\n",
    "from sklearn.metrics import confusion_matrix\n",
    "\n",
    "data_w = load_wine()['data']\n",
    "target_w = load_wine()['target']\n",
    "cls = KNeighborsClassifier(n_neighbors=3)\n",
    "\n",
    "clNB = GaussianNB()\n"
   ]
  },
  {
   "cell_type": "code",
   "execution_count": 4,
   "metadata": {},
   "outputs": [
    {
     "data": {
      "text/plain": [
       "numpy.ndarray"
      ]
     },
     "execution_count": 4,
     "metadata": {},
     "output_type": "execute_result"
    }
   ],
   "source": [
    "type(data_w)"
   ]
  },
  {
   "cell_type": "code",
   "execution_count": null,
   "metadata": {},
   "outputs": [],
   "source": []
  },
  {
   "cell_type": "code",
   "execution_count": 5,
   "metadata": {},
   "outputs": [],
   "source": [
    "train_w, test_w, target_train_w, target_test_w = train_test_split(data_w, target_w, test_size=0.25, random_state=0)"
   ]
  },
  {
   "cell_type": "code",
   "execution_count": 52,
   "metadata": {},
   "outputs": [],
   "source": [
    "# Wine\n",
    "cls = cls.fit(train_w, target_train_w)\n",
    "####\n",
    "clNB = clNB.fit(train_w, target_train_w)"
   ]
  },
  {
   "cell_type": "code",
   "execution_count": 53,
   "metadata": {},
   "outputs": [
    {
     "name": "stdout",
     "output_type": "stream",
     "text": [
      "K-N [[14  1  4]\n",
      " [ 1 18  3]\n",
      " [ 1  2  1]]\n",
      "\n",
      "Bayes' Analysis\n",
      "[[16  2  0]\n",
      " [ 0 18  0]\n",
      " [ 0  1  8]]\n"
     ]
    }
   ],
   "source": [
    "print('K-N', confusion_matrix(cls.predict(test_w), target_test_w))\n",
    "print()\n",
    "print(\"Bayes' Analysis\")\n",
    "print(confusion_matrix(clNB.predict(test_w), target_test_w))\n",
    "matrix = confusion_matrix(clNB.predict(test_w), target_test_w)"
   ]
  },
  {
   "cell_type": "code",
   "execution_count": 54,
   "metadata": {},
   "outputs": [
    {
     "name": "stdout",
     "output_type": "stream",
     "text": [
      "Accuracy 93.33\n"
     ]
    }
   ],
   "source": [
    "print('Accuracy {:.2f}'.format((matrix[0][0]+matrix[1][1]+matrix[2][2])/len(test_w) * 100))"
   ]
  },
  {
   "cell_type": "code",
   "execution_count": 55,
   "metadata": {},
   "outputs": [
    {
     "data": {
      "text/plain": [
       "(0.7333333333333333, 0.9333333333333333)"
      ]
     },
     "execution_count": 55,
     "metadata": {},
     "output_type": "execute_result"
    }
   ],
   "source": [
    "(14+18+1)/45, (16+18+8)/45"
   ]
  },
  {
   "cell_type": "code",
   "execution_count": 56,
   "metadata": {},
   "outputs": [],
   "source": [
    "train_cv_w, test_cv_w, target_cv_train_w, target_cv_test_w = train_test_split(train_w, target_train_w, test_size=0.25, random_state=0)"
   ]
  },
  {
   "cell_type": "code",
   "execution_count": 57,
   "metadata": {},
   "outputs": [],
   "source": [
    "cls1 = KNeighborsClassifier(n_neighbors=3)\n",
    "cls1=cls1.fit(train_cv_w, target_cv_train_w)\n",
    "####clNB\n",
    "clNB = GaussianNB()\n",
    "clNB = clNB.fit(train_cv_w, target_cv_train_w)"
   ]
  },
  {
   "cell_type": "code",
   "execution_count": 59,
   "metadata": {},
   "outputs": [
    {
     "name": "stdout",
     "output_type": "stream",
     "text": [
      "K-N [[ 8  4  2]\n",
      " [ 1 10  1]\n",
      " [ 0  6  2]]\n",
      "\n",
      "Bayes CV Analysis\n",
      "[[ 9  1  0]\n",
      " [ 0 19  0]\n",
      " [ 0  0  5]]\n",
      "Accuracy 97.06\n"
     ]
    }
   ],
   "source": [
    "# confusion_matrix(cls1.predict(test_cv_w), target_cv_test_w)\n",
    "\n",
    "print('K-N', confusion_matrix(cls1.predict(test_cv_w), target_cv_test_w))\n",
    "print()\n",
    "matrix1 = confusion_matrix(clNB.predict(test_cv_w), target_cv_test_w)\n",
    "print('Bayes CV Analysis')\n",
    "print(matrix1)\n",
    "print('Accuracy {:.2f}'.format((matrix1[0][0]+matrix1[1][1]+matrix1[2][2])/len(test_cv_w) * 100))"
   ]
  },
  {
   "cell_type": "code",
   "execution_count": 12,
   "metadata": {},
   "outputs": [
    {
     "data": {
      "text/plain": [
       "(0.5882352941176471, 0.9705882352941176)"
      ]
     },
     "execution_count": 12,
     "metadata": {},
     "output_type": "execute_result"
    }
   ],
   "source": [
    "(8+10+2)/len(test_cv_w), (9+19+5)/len(test_cv_w) "
   ]
  },
  {
   "cell_type": "code",
   "execution_count": 13,
   "metadata": {},
   "outputs": [
    {
     "name": "stdout",
     "output_type": "stream",
     "text": [
      "K-N [[14  1  3]\n",
      " [ 0 18  3]\n",
      " [ 2  2  2]]\n",
      "bayes [[16  2  0]\n",
      " [ 0 18  0]\n",
      " [ 0  1  8]]\n"
     ]
    }
   ],
   "source": [
    "# confusion_matrix(cls1.predict(test_w), target_test_w)\n",
    "\n",
    "print('K-N', confusion_matrix(cls1.predict(test_w), target_test_w))\n",
    "print('bayes',  confusion_matrix(clNB.predict(test_w), target_test_w))"
   ]
  },
  {
   "cell_type": "code",
   "execution_count": 64,
   "metadata": {},
   "outputs": [
    {
     "name": "stdout",
     "output_type": "stream",
     "text": [
      "Bayes Analysis\n",
      "[[16  2  0]\n",
      " [ 0 18  0]\n",
      " [ 0  1  8]]\n",
      "Accuracy 93.33\n"
     ]
    }
   ],
   "source": [
    "(14+18+2)/len(test_w), (16+18+8)/len(test_w)\n",
    "matrix2 = confusion_matrix(clNB.predict(test_w), target_test_w)\n",
    "print('Bayes Analysis')\n",
    "print(matrix2)\n",
    "print('Accuracy {:.2f}'.format((matrix2[0][0]+matrix2[1][1]+matrix2[2][2])/len(test_w) * 100))"
   ]
  },
  {
   "cell_type": "code",
   "execution_count": 6,
   "metadata": {},
   "outputs": [],
   "source": [
    "from sklearn.model_selection import KFold, cross_val_score\n",
    "from sklearn.neighbors import KNeighborsClassifier\n",
    "from sklearn.naive_bayes import GaussianNB\n",
    "from sklearn.metrics import confusion_matrix\n",
    "clg = KNeighborsClassifier(n_neighbors=3)\n",
    "clNBm = GaussianNB()\n",
    "kfold = KFold(n_splits=10)"
   ]
  },
  {
   "cell_type": "code",
   "execution_count": 13,
   "metadata": {},
   "outputs": [
    {
     "name": "stdout",
     "output_type": "stream",
     "text": [
      "KN 57.14285714285714\n",
      "GB 100.0\n",
      "KN 42.857142857142854\n",
      "GB 85.71428571428571\n",
      "KN 71.42857142857143\n",
      "GB 100.0\n",
      "KN 69.23076923076923\n",
      "GB 100.0\n",
      "KN 69.23076923076923\n",
      "GB 100.0\n",
      "KN 76.92307692307693\n",
      "GB 100.0\n",
      "KN 69.23076923076923\n",
      "GB 100.0\n",
      "KN 84.61538461538461\n",
      "GB 100.0\n",
      "KN 53.84615384615385\n",
      "GB 92.3076923076923\n",
      "KN 76.92307692307693\n",
      "GB 92.3076923076923\n"
     ]
    }
   ],
   "source": [
    "for train_index, test_index in kfold.split(train_w):\n",
    "    X_train, X_test = train_w[train_index], train_w[test_index]\n",
    "    y_train, y_test = target_train_w[train_index], target_train_w[test_index]\n",
    "    \n",
    "    clg = clg.fit(X_train, y_train)\n",
    "    clNBm = clNBm.fit(X_train, y_train)\n",
    "    \n",
    "    y_pred = clg.predict(X_test)\n",
    "    y_pred1 = clNBm.predict(X_test)\n",
    "    \n",
    "    matrix = confusion_matrix(y_test, y_pred)\n",
    "    matrix1 = confusion_matrix(y_test, y_pred1)\n",
    "    \n",
    "    print('KN',((matrix[0][0]+matrix[1][1]+matrix[2][2])/len(X_test))*100)\n",
    "    print('GB',((matrix1[0][0]+matrix1[1][1]+matrix1[2][2])/len(X_test))*100)"
   ]
  },
  {
   "cell_type": "code",
   "execution_count": 14,
   "metadata": {},
   "outputs": [],
   "source": [
    "pred = clg.predict(test_w)\n",
    "pred1 = clNBm.predict(test_w)"
   ]
  },
  {
   "cell_type": "code",
   "execution_count": 15,
   "metadata": {},
   "outputs": [
    {
     "name": "stdout",
     "output_type": "stream",
     "text": [
      "[[16  0  0]\n",
      " [ 1 19  1]\n",
      " [ 0  0  8]]\n"
     ]
    },
    {
     "data": {
      "text/plain": [
       "(array([[14,  1,  1],\n",
       "        [ 1, 16,  4],\n",
       "        [ 3,  3,  2]]), None)"
      ]
     },
     "execution_count": 15,
     "metadata": {},
     "output_type": "execute_result"
    }
   ],
   "source": [
    "confusion_matrix(target_test_w, pred), print(confusion_matrix(target_test_w, pred1)) "
   ]
  },
  {
   "cell_type": "code",
   "execution_count": 16,
   "metadata": {},
   "outputs": [
    {
     "data": {
      "text/plain": [
       "0.7111111111111111"
      ]
     },
     "execution_count": 16,
     "metadata": {},
     "output_type": "execute_result"
    }
   ],
   "source": [
    "(14+16+2)/len(target_test_w)"
   ]
  },
  {
   "cell_type": "code",
   "execution_count": 17,
   "metadata": {},
   "outputs": [
    {
     "name": "stdout",
     "output_type": "stream",
     "text": [
      "Accuracy on test set: 95.56\n"
     ]
    }
   ],
   "source": [
    "accuracy = (16+19+8)/len(target_test_w) * 100\n",
    "print(\"Accuracy on test set: {:.2f}\".format(accuracy))"
   ]
  },
  {
   "cell_type": "code",
   "execution_count": 25,
   "metadata": {},
   "outputs": [
    {
     "name": "stdout",
     "output_type": "stream",
     "text": [
      "For KFold Validation\n",
      "KN 93.02325581395348\n",
      "KN 95.34883720930233\n",
      "KN 86.04651162790698\n",
      "KN 88.37209302325581\n",
      "KN 88.37209302325581\n",
      "KN 90.69767441860465\n",
      "KN 92.85714285714286\n",
      "KN 90.47619047619048\n",
      "KN 95.23809523809523\n",
      "KN 95.23809523809523\n",
      "Accuracy on test set: 93.01\n"
     ]
    }
   ],
   "source": [
    "# from sklearn.neighbors import KNeighborsClassifier\n",
    "# from sklearn.datasets import load_breast_cancer\n",
    "# from sklearn.model_selection import KFold, train_test_split\n",
    "# from sklearn.metrics import confusion_matrix\n",
    "\n",
    "# data = load_breast_cancer()['data']\n",
    "# target = load_breast_cancer()['target']\n",
    "\n",
    "# cls = KNeighborsClassifier(n_neighbors=3)\n",
    "# train, test, target_train, target_test = train_test_split(data, target, test_size=0.25, random_state=0)\n",
    "# train_cv_w, test_cv_w, target_cv_train_w, target_cv_test_w = train_test_split(train, target_train, test_size=0.25, random_state=0)\n",
    "\n",
    "# cls = cls.fit(train_cv_w, target_cv_train_w)\n",
    "# result = cls.predict(test_cv_w)\n",
    "\n",
    "# accuracy = confusion_matrix(target_cv_test_w, result)\n",
    "# accuracy = (accuracy[0][0]+accuracy[1][1])/len(target_cv_test_w)\n",
    "# accuracy = accuracy*100\n",
    "\n",
    "# print(\"Cross Validated Accuracy: {:.2f}\".format(accuracy))\n",
    "\n",
    "# final_result = cls.predict(test)\n",
    "# accuracy = confusion_matrix(target_test, final_result)\n",
    "# accuracy = (accuracy[0][0]+accuracy[1][1])/len(target_test)\n",
    "# accuracy = accuracy*100\n",
    "# print(\"Accuracy on test set: {:.2f}\".format(accuracy))\n",
    "\n",
    "print('For KFold Validation')\n",
    "from sklearn.datasets import load_breast_cancer\n",
    "from sklearn.model_selection import KFold\n",
    "from sklearn.neighbors import KNeighborsClassifier\n",
    "from sklearn.metrics import confusion_matrix\n",
    "\n",
    "data = load_breast_cancer()['data']\n",
    "target = load_breast_cancer()['target']\n",
    "\n",
    "clg = KNeighborsClassifier(n_neighbors=3)\n",
    "train, test, target_train, target_test = train_test_split(data, target, test_size=0.25, random_state=0)\n",
    "kfold = KFold(n_splits=10)\n",
    "\n",
    "for train_index, test_index in kfold.split(train):\n",
    "    X_train, X_test = train[train_index], train[test_index]\n",
    "    y_train, y_test = target_train[train_index], target_train[test_index]\n",
    "    \n",
    "    clg = clg.fit(X_train, y_train)\n",
    "    \n",
    "    y_pred = clg.predict(X_test)\n",
    "    \n",
    "    matrix = confusion_matrix(y_test, y_pred)\n",
    "    \n",
    "    print('KN',((matrix[0][0]+matrix[1][1])/len(X_test))*100)\n",
    "\n",
    "    \n",
    "matrix1 = confusion_matrix(target_test,clg.predict(test))    \n",
    "accuracy = (matrix1[0][0]+matrix1[1][1])/len(target_test)\n",
    "accuracy = accuracy*100\n",
    "print(\"Accuracy on test set: {:.2f}\".format(accuracy))\n"
   ]
  },
  {
   "cell_type": "code",
   "execution_count": null,
   "metadata": {},
   "outputs": [],
   "source": []
  }
 ],
 "metadata": {
  "kernelspec": {
   "display_name": "Python 3",
   "language": "python",
   "name": "python3"
  },
  "language_info": {
   "codemirror_mode": {
    "name": "ipython",
    "version": 3
   },
   "file_extension": ".py",
   "mimetype": "text/x-python",
   "name": "python",
   "nbconvert_exporter": "python",
   "pygments_lexer": "ipython3",
   "version": "3.7.1"
  }
 },
 "nbformat": 4,
 "nbformat_minor": 2
}
